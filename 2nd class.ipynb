{
 "cells": [
  {
   "cell_type": "markdown",
   "id": "eec49452",
   "metadata": {},
   "source": [
    "#LOOPS\n"
   ]
  },
  {
   "cell_type": "code",
   "execution_count": 2,
   "id": "0d60d053",
   "metadata": {},
   "outputs": [
    {
     "data": {
      "text/plain": [
       "range(0, 10, 2)"
      ]
     },
     "execution_count": 2,
     "metadata": {},
     "output_type": "execute_result"
    }
   ],
   "source": [
    "#range(start,stop,step)"
   ]
  },
  {
   "cell_type": "code",
   "execution_count": 3,
   "id": "9c490ea4",
   "metadata": {},
   "outputs": [
    {
     "name": "stdout",
     "output_type": "stream",
     "text": [
      "Hello World\n",
      "Hello World\n",
      "Hello World\n",
      "Hello World\n",
      "Hello World\n",
      "Hello World\n",
      "Hello World\n",
      "Hello World\n",
      "Hello World\n",
      "Hello World\n"
     ]
    }
   ],
   "source": [
    "for i in range (10):\n",
    "    print (\"Hello World\")"
   ]
  },
  {
   "cell_type": "code",
   "execution_count": 6,
   "id": "ecff66ad",
   "metadata": {},
   "outputs": [
    {
     "name": "stdout",
     "output_type": "stream",
     "text": [
      "1\n",
      "2\n",
      "3\n",
      "4\n",
      "5\n"
     ]
    }
   ],
   "source": [
    "#print 1 to 5\n",
    "n=5\n",
    "for i in range (1,n+1,1):\n",
    "    print (i)\n",
    "    \n"
   ]
  },
  {
   "cell_type": "code",
   "execution_count": 8,
   "id": "ea8c0f33",
   "metadata": {},
   "outputs": [
    {
     "name": "stdout",
     "output_type": "stream",
     "text": [
      "15\n"
     ]
    }
   ],
   "source": [
    "#Sum of natural numbers\n",
    "s=0\n",
    "n=5\n",
    "for i in range (1,n+1):\n",
    "    s=s+i\n",
    "print (s)\n",
    "\n",
    "\n",
    "\n",
    "\n",
    "\n"
   ]
  },
  {
   "cell_type": "code",
   "execution_count": 10,
   "id": "f545a605",
   "metadata": {},
   "outputs": [
    {
     "name": "stdout",
     "output_type": "stream",
     "text": [
      "120\n"
     ]
    }
   ],
   "source": [
    "#factorial numbers\n",
    "s=1\n",
    "n=5\n",
    "for i in range (1,n+1):\n",
    "    s=s*i\n",
    "print (s)"
   ]
  },
  {
   "cell_type": "code",
   "execution_count": 11,
   "id": "c4f18bbf",
   "metadata": {},
   "outputs": [
    {
     "name": "stdout",
     "output_type": "stream",
     "text": [
      "2 X 1 = 2\n",
      "2 X 2 = 4\n",
      "2 X 3 = 6\n",
      "2 X 4 = 8\n",
      "2 X 5 = 10\n",
      "2 X 6 = 12\n",
      "2 X 7 = 14\n",
      "2 X 8 = 16\n",
      "2 X 9 = 18\n",
      "2 X 10 = 20\n"
     ]
    }
   ],
   "source": [
    "#Table of 2\n",
    "s=2\n",
    "n=10\n",
    "for i in range (1,n+1):\n",
    "    print (2,\"X\",i,\"=\",2*i)\n",
    "    "
   ]
  },
  {
   "cell_type": "code",
   "execution_count": 18,
   "id": "2bf55374",
   "metadata": {},
   "outputs": [
    {
     "name": "stdout",
     "output_type": "stream",
     "text": [
      "*  *  * \n",
      "*  *  * \n",
      "*  *  * \n"
     ]
    }
   ],
   "source": [
    "#Print * * * from loops in 3 rows\n",
    "s=1\n",
    "n=3\n",
    "for i in range (1,n+1):\n",
    "    print (\"* \",\"* \",\"* \")"
   ]
  },
  {
   "cell_type": "code",
   "execution_count": 13,
   "id": "6eea1cbb",
   "metadata": {},
   "outputs": [
    {
     "name": "stdout",
     "output_type": "stream",
     "text": [
      "* * * \n",
      "* * * \n",
      "* * * \n"
     ]
    }
   ],
   "source": [
    "#Print * * * from loops in 3 rows through nested loops\n",
    "for i in range (3):\n",
    "    for j in range(3):\n",
    "        print (\"*\", end=\" \")\n",
    "    print()"
   ]
  },
  {
   "cell_type": "code",
   "execution_count": 17,
   "id": "4aa98dbe",
   "metadata": {},
   "outputs": [
    {
     "name": "stdout",
     "output_type": "stream",
     "text": [
      "* \n",
      "* * \n",
      "* * * \n",
      "* * * * \n"
     ]
    }
   ],
   "source": [
    "#print the * in right angled triangle\n",
    "for i in range (1,5):\n",
    "    for j in range (i):\n",
    "        print (\"*\",end =\" \")\n",
    "    print()"
   ]
  },
  {
   "cell_type": "code",
   "execution_count": 26,
   "id": "ec65b92a",
   "metadata": {},
   "outputs": [
    {
     "name": "stdout",
     "output_type": "stream",
     "text": [
      "   * \n",
      "  * * \n",
      " * * * \n",
      "* * * * \n"
     ]
    }
   ],
   "source": [
    "# print the * in isoceles triangle\n",
    "n=4\n",
    "for i in range (0,n):\n",
    "    for j in range (n-i-1):\n",
    "        print(end=\" \")\n",
    "    for k in range (i+1):\n",
    "        print(\"*\", end=\" \")\n",
    "    print()\n"
   ]
  },
  {
   "cell_type": "code",
   "execution_count": 29,
   "id": "a8d53474",
   "metadata": {},
   "outputs": [
    {
     "name": "stdout",
     "output_type": "stream",
     "text": [
      "* * * * \n",
      " * * * \n",
      "  * * \n",
      "   * \n"
     ]
    }
   ],
   "source": [
    "# print the * in isoceles triangle - in opposite\n",
    "n=4\n",
    "for i in range (n,0,-1):\n",
    "    for j in range (n-i):\n",
    "        print(end=\" \")\n",
    "    for k in range (i):\n",
    "        print(\"*\", end=\" \")\n",
    "    print()"
   ]
  },
  {
   "cell_type": "code",
   "execution_count": 31,
   "id": "e0e0dc8a",
   "metadata": {},
   "outputs": [
    {
     "name": "stdout",
     "output_type": "stream",
     "text": [
      "   * \n",
      "  * * \n",
      " * * * \n",
      "* * * * \n",
      " * * * \n",
      "  * * \n",
      "   * \n"
     ]
    }
   ],
   "source": [
    "# print the * in diamond - two isoceles triangle added\n",
    "n=4\n",
    "for i in range (0,n):\n",
    "    for j in range (n-i-1):\n",
    "        print(end=\" \")\n",
    "    for k in range (i+1):\n",
    "        print(\"*\", end=\" \")\n",
    "    print()\n",
    "for i in range (n-1,0,-1):\n",
    "    for j in range (n-i):\n",
    "        print(end=\" \")\n",
    "    for k in range (i):\n",
    "        print(\"*\", end=\" \")\n",
    "    print()"
   ]
  },
  {
   "cell_type": "code",
   "execution_count": 40,
   "id": "96bd82a4",
   "metadata": {},
   "outputs": [
    {
     "name": "stdout",
     "output_type": "stream",
     "text": [
      " *** \n",
      "*   *\n",
      "*   *\n",
      "*****\n",
      "*   *\n",
      "*   *\n",
      "*   *\n"
     ]
    }
   ],
   "source": [
    "# print the * in letter A\n",
    "for row in range (7):\n",
    "    for column in range(5):\n",
    "        if row!=0 and (column == 0 or column == 4):\n",
    "            print (\"*\", end=\"\")\n",
    "        elif (row==0 or row ==3) and (column>0 and column<4):\n",
    "            print (\"*\", end=\"\")\n",
    "        else:\n",
    "            print (end=\" \")\n",
    "    print()"
   ]
  },
  {
   "cell_type": "code",
   "execution_count": 38,
   "id": "5ab0b07c",
   "metadata": {},
   "outputs": [
    {
     "name": "stdout",
     "output_type": "stream",
     "text": [
      " *** \n",
      "*   *\n",
      "*   *\n",
      "**** \n",
      "*   *\n",
      "*   *\n",
      " *** \n"
     ]
    }
   ],
   "source": [
    "# print the * in letter B\n",
    "for row in range (7):\n",
    "    for column in range (5):\n",
    "        if ((row!=0 and row!=6) and column==0) or ((row==0 or row==3 or row==6) and (column>0 and column<4)) or ((row!=0 and row!=3 and row!=6) and column==4):\n",
    "            print(\"*\", end=\"\")\n",
    "        else:\n",
    "            print (end=\" \")\n",
    "    print()\n",
    "    \n",
    "            "
   ]
  },
  {
   "cell_type": "code",
   "execution_count": 39,
   "id": "65f4c5f9",
   "metadata": {},
   "outputs": [
    {
     "name": "stdout",
     "output_type": "stream",
     "text": [
      " ****\n",
      "*    \n",
      "*    \n",
      "*    \n",
      "*    \n",
      "*    \n",
      " ****\n"
     ]
    }
   ],
   "source": [
    "# print the * in letter C\n",
    "for row in range (7):\n",
    "    for column in range (5):\n",
    "        if ((row!=0 and row!=6) and column==0) or ((row==0 or row==6) and (column>0 and column<=4)):\n",
    "            print(\"*\", end=\"\")\n",
    "        else:\n",
    "            print (end=\" \")\n",
    "    print()\n",
    "    "
   ]
  },
  {
   "cell_type": "code",
   "execution_count": 42,
   "id": "75d8f0f6",
   "metadata": {},
   "outputs": [
    {
     "name": "stdout",
     "output_type": "stream",
     "text": [
      "**   \n",
      "* *  \n",
      "*  * \n",
      "*   *\n",
      "*  * \n",
      "* *  \n",
      "**   \n"
     ]
    }
   ],
   "source": [
    "# print the * in letter D\n",
    "for row in range (7):\n",
    "    for column in range (5):\n",
    "        if (column==0) or (column-row==1) or (row+column==7):\n",
    "            print(\"*\", end=\"\")\n",
    "        else:\n",
    "            print (end=\" \")\n",
    "    print()"
   ]
  },
  {
   "cell_type": "code",
   "execution_count": 43,
   "id": "afa7af7a",
   "metadata": {},
   "outputs": [
    {
     "name": "stdout",
     "output_type": "stream",
     "text": [
      "*****\n",
      "*    \n",
      "*    \n",
      "*****\n",
      "*    \n",
      "*    \n",
      "*****\n"
     ]
    }
   ],
   "source": [
    "# print the * in letter E\n",
    "for row in range (7):\n",
    "    for column in range (5):\n",
    "        if (column==0) or (row==0 or row==3 or row==6):\n",
    "            print(\"*\", end=\"\")\n",
    "        else:\n",
    "            print (end=\" \")\n",
    "    print()"
   ]
  },
  {
   "cell_type": "raw",
   "id": "715adffb",
   "metadata": {},
   "source": [
    "# print the * in letter F\n",
    "for row in range (7):\n",
    "    for column in range (5):\n",
    "        if (column==0) or (row==0 or row==3):\n",
    "            print(\"*\", end=\"\")\n",
    "        else:\n",
    "            print (end=\" \")\n",
    "    print()"
   ]
  },
  {
   "cell_type": "code",
   "execution_count": 49,
   "id": "54c54916",
   "metadata": {},
   "outputs": [
    {
     "name": "stdout",
     "output_type": "stream",
     "text": [
      "********\n",
      "*       \n",
      "*       \n",
      "*   ****\n",
      "*   *  *\n",
      "*   *  *\n",
      "*****  *\n"
     ]
    }
   ],
   "source": [
    "# print the * in letter G\n",
    "for row in range (7):\n",
    "    for column in range (8):\n",
    "        if (column==0) or (row==0) or (row==6 and column<=4) or (row==3 and (column==5 or column==6)) or (row>=3 and (column==4 or column==7)):\n",
    "            print(\"*\", end=\"\")\n",
    "        else:\n",
    "            print (end=\" \")\n",
    "    print()"
   ]
  },
  {
   "cell_type": "code",
   "execution_count": 50,
   "id": "24aaa8c3",
   "metadata": {},
   "outputs": [
    {
     "name": "stdout",
     "output_type": "stream",
     "text": [
      "*   *\n",
      "*   *\n",
      "*   *\n",
      "*****\n",
      "*   *\n",
      "*   *\n",
      "*   *\n"
     ]
    }
   ],
   "source": [
    "# print the * in letter H\n",
    "for row in range (7):\n",
    "    for column in range (5):\n",
    "        if (column==0 or column==4) or (row==3):\n",
    "            print(\"*\", end=\"\")\n",
    "        else:\n",
    "            print (end=\" \")\n",
    "    print()"
   ]
  },
  {
   "cell_type": "code",
   "execution_count": null,
   "id": "f236e3d3",
   "metadata": {},
   "outputs": [],
   "source": [
    "# print the * in letter K\n",
    "for row in range (7):\n",
    "    for column in range (5):\n",
    "        if (column==0 or column==4) or (row==3):\n",
    "            print(\"*\", end=\"\")\n",
    "        else:\n",
    "            print (end=\" \")\n",
    "    print()"
   ]
  },
  {
   "cell_type": "code",
   "execution_count": 51,
   "id": "315ddbdf",
   "metadata": {},
   "outputs": [
    {
     "data": {
      "text/plain": [
       "'C:\\\\Users\\\\Anmol\\\\Python class'"
      ]
     },
     "execution_count": 51,
     "metadata": {},
     "output_type": "execute_result"
    }
   ],
   "source": [
    "pwd"
   ]
  },
  {
   "cell_type": "code",
   "execution_count": null,
   "id": "963077f4",
   "metadata": {},
   "outputs": [],
   "source": []
  }
 ],
 "metadata": {
  "kernelspec": {
   "display_name": "Python 3 (ipykernel)",
   "language": "python",
   "name": "python3"
  },
  "language_info": {
   "codemirror_mode": {
    "name": "ipython",
    "version": 3
   },
   "file_extension": ".py",
   "mimetype": "text/x-python",
   "name": "python",
   "nbconvert_exporter": "python",
   "pygments_lexer": "ipython3",
   "version": "3.9.6"
  }
 },
 "nbformat": 4,
 "nbformat_minor": 5
}
